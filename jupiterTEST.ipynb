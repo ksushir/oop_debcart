{
 "cells": [
  {
   "cell_type": "code",
   "execution_count": 233,
   "source": [
    "class Account():\n",
    "    def __init__(self, title, owner, balance):\n",
    "        self.title = title\n",
    "        self.owner = owner\n",
    "        self.balance = balance\n",
    "\n",
    "    def deposit(self, amount):\n",
    "        if not self.handle_errors(amount):\n",
    "            return\n",
    "\n",
    "        self.balance = self.balance + amount\n",
    "        print(f\"{self.__str__()}\")\n",
    "\n",
    "    def withdraw(self, amount):\n",
    "        if not self.handle_errors(amount):\n",
    "            return\n",
    "\n",
    "        if amount > self.balance:\n",
    "            print(f\"Enter a value less or equal to {self.balance}\")\n",
    "            return\n",
    "\n",
    "        self.balance = self.balance - amount\n",
    "        print(f\"{self.__str__()}\")\n",
    "\n",
    "    def handle_errors(self, amount):\n",
    "        try:\n",
    "            int(amount)\n",
    "        except ValueError:\n",
    "            print(\"Error. Enter a valid integer\")\n",
    "            return False\n",
    "\n",
    "        if amount < 0:\n",
    "            print(f\"Enter a correct value\")\n",
    "            return False\n",
    "\n",
    "        return True\n",
    "\n",
    "    def __str__(self):\n",
    "        return f\"Account's owner: {self.owner}\\nAccounting balance: {self.__len__()}\"\n",
    "\n",
    "    def __len__(self):\n",
    "        return self.balance\n"
   ],
   "outputs": [],
   "metadata": {}
  },
  {
   "cell_type": "code",
   "execution_count": 234,
   "source": [
    "acct1 = Account(\"Data's holder\", \"KK\", 200)\n",
    "print(acct1)"
   ],
   "outputs": [
    {
     "output_type": "stream",
     "name": "stdout",
     "text": [
      "Account's owner: KK\n",
      "Accounting balance: 200\n"
     ]
    }
   ],
   "metadata": {}
  },
  {
   "cell_type": "code",
   "execution_count": 236,
   "source": [
    "acct1.deposit(-34.3)"
   ],
   "outputs": [
    {
     "output_type": "stream",
     "name": "stdout",
     "text": [
      "Account's owner: KK\n",
      "Accounting balance: 234.3\n"
     ]
    }
   ],
   "metadata": {}
  }
 ],
 "metadata": {
  "orig_nbformat": 4,
  "language_info": {
   "name": "python",
   "version": "3.8.10",
   "mimetype": "text/x-python",
   "codemirror_mode": {
    "name": "ipython",
    "version": 3
   },
   "pygments_lexer": "ipython3",
   "nbconvert_exporter": "python",
   "file_extension": ".py"
  },
  "kernelspec": {
   "name": "python3",
   "display_name": "Python 3.8.10 64-bit"
  },
  "interpreter": {
   "hash": "916dbcbb3f70747c44a77c7bcd40155683ae19c65e1c03b4aa3499c5328201f1"
  }
 },
 "nbformat": 4,
 "nbformat_minor": 2
}